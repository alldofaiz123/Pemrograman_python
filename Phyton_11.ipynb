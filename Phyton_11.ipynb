{
  "nbformat": 4,
  "nbformat_minor": 0,
  "metadata": {
    "colab": {
      "name": "Phyton 11.ipynb",
      "provenance": [],
      "authorship_tag": "ABX9TyMbdGRurgAjO/wd1UqtD6Z/",
      "include_colab_link": true
    },
    "kernelspec": {
      "name": "python3",
      "display_name": "Python 3"
    }
  },
  "cells": [
    {
      "cell_type": "markdown",
      "metadata": {
        "id": "view-in-github",
        "colab_type": "text"
      },
      "source": [
        "<a href=\"https://colab.research.google.com/github/alldofaiz123/Pemrograman_python/blob/main/Phyton_11.ipynb\" target=\"_parent\"><img src=\"https://colab.research.google.com/assets/colab-badge.svg\" alt=\"Open In Colab\"/></a>"
      ]
    },
    {
      "cell_type": "code",
      "metadata": {
        "colab": {
          "base_uri": "https://localhost:8080/"
        },
        "id": "VB11GoRrmprl",
        "outputId": "85374478-4e91-4717-a8c6-7694d611cf9d"
      },
      "source": [
        "from google.colab import drive\n",
        "drive.mount('/content/drive')"
      ],
      "execution_count": 53,
      "outputs": [
        {
          "output_type": "stream",
          "text": [
            "Drive already mounted at /content/drive; to attempt to forcibly remount, call drive.mount(\"/content/drive\", force_remount=True).\n"
          ],
          "name": "stdout"
        }
      ]
    },
    {
      "cell_type": "code",
      "metadata": {
        "colab": {
          "base_uri": "https://localhost:8080/"
        },
        "id": "nEENNYprm10F",
        "outputId": "d7ddb244-fec9-4da8-c842-32d95d2380bd"
      },
      "source": [
        "cd /content/drive/MyDrive"
      ],
      "execution_count": 54,
      "outputs": [
        {
          "output_type": "stream",
          "text": [
            "/content/drive/MyDrive\n"
          ],
          "name": "stdout"
        }
      ]
    },
    {
      "cell_type": "code",
      "metadata": {
        "colab": {
          "base_uri": "https://localhost:8080/"
        },
        "id": "Uy0Z3DlTm5Yh",
        "outputId": "ac6d5a18-1562-441b-bc79-a094906a8317"
      },
      "source": [
        "ls"
      ],
      "execution_count": 55,
      "outputs": [
        {
          "output_type": "stream",
          "text": [
            "'1101194223_Alldo Faiz Ramadhani.jpg'\n",
            "'1101194223_PDA_Alldo Faiz Ramadhani.pdf'\n",
            "'1101194223 Registrasi | Telkom University (1).pdf'\n",
            "'1101194223 Registrasi | Telkom University.pdf'\n",
            " 1547478711733.jpg\n",
            " 20150601_194426.jpg\n",
            "'Alldo Faiz Ramadhani_1101194223.pdf'\n",
            "'Alldo Faiz Ramadhani_1101194223_TT-43-02.pdf'\n",
            "'Alldo Faiz Ramadhani(Maaf bu pdfnya eror, jadi bacanya dari slide terakhir yang ke pertama ya ).pdf'\n",
            " Alldo.jpg\n",
            " Arik.jpeg\n",
            " Bagi\n",
            "'Big 6 Smart Door Lock.gdoc'\n",
            " bismillahsong.mp3\n",
            "'CamScanner 04-30-2020 09.33.13.pdf'\n",
            " \u001b[0m\u001b[01;34mcanon\u001b[0m/\n",
            "'chord think a loud.pdf'\n",
            " \u001b[01;34mClassroom\u001b[0m/\n",
            "\u001b[01;34m'Colab Notebooks'\u001b[0m/\n",
            "'daftar isi.docx'\n",
            " \u001b[01;34mdataset\u001b[0m/\n",
            " dooc.jpeg\n",
            " Fajar.jpeg\n",
            "'Feel Good.zip'\n",
            "\u001b[01;34m'Fl 20'\u001b[0m/\n",
            "\u001b[01;34m'Fl studio preset'\u001b[0m/\n",
            "\u001b[01;34m'Fl Studio Project'\u001b[0m/\n",
            "'Format laporan Iuran BPJS TK JAMINAN PENSIUN.xlsx'\n",
            "'Formulir tanpa judul (1).gform'\n",
            "'Formulir tanpa judul.gform'\n",
            "'Foto dari Alldo Faiz'\n",
            "'Foto dari Alldo Faiz (1)'\n",
            "'Foto dari Alldo Faiz (2)'\n",
            "'Foto dari Alldo Faiz (3)'\n",
            "\u001b[01;34m'Foto Google'\u001b[0m/\n",
            " Gamel.rar\n",
            "'Gmail - Fwd: e-Ticket Lion Air & Kalstar KNO-CGK-PNK 01 Nop 2015 a n MR KIKI ARDIAN MR YOGA PRASETIYO MR SURYA PRADANA. Sriwijaya CGK-KNO 01 Nop 2015 a n MR RUDI PRAMUDYA MR BAMBANG SARTIKA.pdf'\n",
            "'hanyalah dirimu.mp3'\n",
            "'hanyalah dirimu.zip'\n",
            "'Holdin me Back.rar'\n",
            " \u001b[01;34micloud\u001b[0m/\n",
            " Ilham.jpeg\n",
            "'ILLENIUM - Nightlight (Oldu Remix).wav'\n",
            "'Image (136)-dikonversi.pdf'\n",
            "'Image (76)-dikonversi.pdf'\n",
            "'images (19).jpg'\n",
            "'images (21).jpg'\n",
            "'images (22).jpg'\n",
            "'images (23).jpg'\n",
            " IMG_20170309_141532.jpg\n",
            " IMG_20180615_074021.jpg\n",
            " IMG_20190605_080501.jpg\n",
            " IMG_20190616_121925_217.jpg\n",
            " IMG_20200428_080549.jpg\n",
            " IMG_20200815_130938_515.jpg\n",
            " IMG_20200825_184328.jpg\n",
            " IMG_20200903_182652.jpg\n",
            " IMG_20200917_183515.jpg\n",
            " img-Y07122058-0001.pdf\n",
            " img-Z05105424-0001.pdf\n",
            "\u001b[01;34m'Ipeenk Files'\u001b[0m/\n",
            " \u001b[01;34mjOURNAL\u001b[0m/\n",
            "'JURNAL _MODUL4_KEL97_ALLDO FAIZ RAMADHANI_1101194223.pdf'\n",
            " kartupeserta_180917183_2.pdf\n",
            "'KSM Alldo.pdf'\n",
            "'KSM Altaharik.pdf'\n",
            "'KSM Fajar.pdf'\n",
            "'KSM Ilham.pdf'\n",
            "'KSM Rayhan.pdf'\n",
            "'lindo tolong ya.rar'\n",
            "\u001b[01;34m'Meong(dot)Club'\u001b[0m/\n",
            " Messy.rar\n",
            "\u001b[01;34m'Mixing In FL Studio'\u001b[0m/\n",
            "\u001b[01;34m'New folder'\u001b[0m/\n",
            " Rayhan.jpeg\n",
            "'remix messy.mp3'\n",
            " \u001b[01;34mScreenshot\u001b[0m/\n",
            "'Screenshot (107).png'\n",
            "'Screenshot (115).png'\n",
            "'Screenshot (119).png'\n",
            "'Screenshot (120).png'\n",
            "'Screenshot (124).png'\n",
            "'Screenshot (126).png'\n",
            " Screenshot_20190129_211530.jpg\n",
            " Screenshot_20190405_122955.jpg\n",
            "'Screenshot (26).png'\n",
            "'Screenshot (27).png'\n",
            "'Screenshot (36).png'\n",
            "'Screenshot (41).png'\n",
            "'Screenshot (46).png'\n",
            "'Screenshot (54).png'\n",
            "'Screenshot (56).png'\n",
            "'Screenshot (58).png'\n",
            "'Screenshot (80).png'\n",
            "'Screenshot (81).png'\n",
            "'SENIN(3)_TT02(C)_ALLDO FAIZ RAMADHANI_1101194223_KAP.jpg'\n",
            "'SENIN(3)_TT02(C)_ALLDO FAIZ RAMADHANI_1101194223_KAP.pdf'\n",
            " \u001b[01;34mShareMyDrive.xyz\u001b[0m/\n",
            " SL1VST.rar\n",
            "'The Strangers: Prey at Night 2018 (720p | 371608)'\n",
            "'TODAY MASTERED.wav'\n",
            " TODAY.mp3\n",
            " TODAY.wav\n",
            "'trap for serahdeh.zip'\n",
            "'TT-43-02 PROPOSAL PKM GT Smart Door Lock.gdoc'\n",
            "'TUGAS PDA Pra UTS_1101194223_Alldo Faiz Ramadhani.pdf'\n",
            "'unity remix Mastering.wav'\n",
            " Untitled.png\n",
            "'UTS MATDIS_TT-43-02_1101194223_Alldo Faiz Ramadhani.pdf'\n",
            "'yij-evej-kxy (2020-10-12 at 21:21 GMT-7)'\n",
            "'[ZONAFILM.XYZ] - High & Low: The Mighty Warriors (2017) WEBDL 720p.rar'\n"
          ],
          "name": "stdout"
        }
      ]
    },
    {
      "cell_type": "code",
      "metadata": {
        "id": "veCCTBlSm8jq"
      },
      "source": [
        "# import the necessary packages\n",
        "from keras.models import Sequential\n",
        "from keras.layers.core import Activation\n",
        "from keras.layers.core import Flatten\n",
        "from keras.layers.core import Dense\n",
        "from keras.optimizers import Adam\n",
        "from sklearn.preprocessing import LabelBinarizer\n",
        "from sklearn.model_selection import train_test_split\n",
        "from sklearn.metrics import classification_report\n",
        "from PIL import Image\n",
        "from imutils import paths\n",
        "import numpy as np\n",
        "import os"
      ],
      "execution_count": 56,
      "outputs": []
    },
    {
      "cell_type": "code",
      "metadata": {
        "colab": {
          "base_uri": "https://localhost:8080/"
        },
        "id": "ZmfPcfITnEDw",
        "outputId": "793094e0-ad7c-4637-8cb1-4eaeae08e61f"
      },
      "source": [
        "# grab all image paths in the input dataset directory, then initialize\n",
        "# our list of images and corresponding class labels\n",
        "print(\"[INFO] loading images...\")\n",
        "imagePaths = paths.list_images(\"dataset\")\n",
        "data = []\n",
        "labels = []"
      ],
      "execution_count": 57,
      "outputs": [
        {
          "output_type": "stream",
          "text": [
            "[INFO] loading images...\n"
          ],
          "name": "stdout"
        }
      ]
    },
    {
      "cell_type": "code",
      "metadata": {
        "id": "Qljt6URRnHTc"
      },
      "source": [
        "# loop over our input images\n",
        "for imagePath in imagePaths:\n",
        "\t# load the input image from disk, resize it to 64x64 pixels, scale\n",
        "\t# the pixel intensities to the range [0, 1], and then update our\n",
        "\t# images list\n",
        "\timage = Image.open(imagePath)\n",
        "  #preprocessing\n",
        "\timage = np.array(image.resize((240, 240))) / 255.0 #normalisasi\n",
        "\tdata.append(image)\n",
        "\n",
        "\t# extract the class label from the file path and update the\n",
        "\t# labels list\n",
        "\tlabel = imagePath.split(os.path.sep)[-2]\n",
        "\tlabels.append(label)"
      ],
      "execution_count": 58,
      "outputs": []
    },
    {
      "cell_type": "code",
      "metadata": {
        "colab": {
          "base_uri": "https://localhost:8080/"
        },
        "id": "5feaaKzkqr_M",
        "outputId": "35915874-9245-4dfd-ca33-4f906429e7a9"
      },
      "source": [
        "print(labels)"
      ],
      "execution_count": 59,
      "outputs": [
        {
          "output_type": "stream",
          "text": [
            "['GMB_03', 'GMB_03', 'GMB_03', 'GMB_03', 'GMB_03', 'GMB_03', 'GMB_03', 'GMB_03', 'GMB_03', 'GMB_03', 'GMB_03', 'GMB_03', 'GMB_03', 'GMB_03', 'GMB_03', 'GMB_03', 'GMB_03', 'GMB_03', 'GMB_03', 'GMB_03', 'GMB_03', 'GMB_03', 'GMB_03', 'GMB_03', 'GMB_03', 'GMB_03', 'GMB_03', 'GMB_03', 'GMB_03', 'GMB_03', 'GMB_03', 'GMB_03', 'GMB_03', 'GMB_03', 'GMB_03', 'GMB_03', 'GMB_03', 'GMB_03', 'GMB_03', 'GMB_03', 'GMB_03', 'GMB_03', 'GMB_03', 'GMB_03', 'GMB_03', 'GMB_03', 'GMB_03', 'GMB_03', 'GMB_03', 'GMB_03', 'GMB_03', 'GMB_03', 'GMB_03', 'GMB_03', 'GMB_03', 'GMB_03', 'GMB_03', 'GMB_03', 'GMB_03', 'GMB_03', 'GMB_03', 'GMB_03', 'GMB_03', 'GMB_03', 'GMB_03', 'GMB_03', 'GMB_03', 'GMB_03', 'GMB_03', 'GMB_03', 'GMB_03', 'GMB_03', 'GMB_03', 'GMB_03', 'GMB_03', 'GMB_03', 'GMB_03', 'GMB_03', 'GMB_03', 'GMB_03', 'GMB_03', 'GMB_03', 'GMB_03', 'GMB_03', 'GMB_03', 'GMB_03', 'GMB_03', 'GMB_03', 'GMB_03', 'GMB_03', 'GMB_03', 'GMB_03', 'GMB_03', 'GMB_03', 'GMB_03', 'GMB_03', 'GMB_03', 'GMB_03', 'GMB_03', 'GMB_03', 'GMB_03', 'GMB_03', 'GMB_03', 'GMB_03', 'GMB_03', 'GMB_03', 'GMB_03', 'GMB_03', 'GMB_03', 'GMB_03', 'GMB_03', 'GMB_03', 'GMB_02', 'GMB_02', 'GMB_02', 'GMB_02', 'GMB_02', 'GMB_02', 'GMB_02', 'GMB_02', 'GMB_02', 'GMB_02', 'GMB_02', 'GMB_02', 'GMB_02', 'GMB_02', 'GMB_02', 'GMB_02', 'GMB_02', 'GMB_02', 'GMB_02', 'GMB_02', 'GMB_02', 'GMB_02', 'GMB_02', 'GMB_02', 'GMB_02', 'GMB_02', 'GMB_02', 'GMB_02', 'GMB_02', 'GMB_02', 'GMB_02', 'GMB_02', 'GMB_02', 'GMB_02', 'GMB_02', 'GMB_02', 'GMB_02', 'GMB_02', 'GMB_02', 'GMB_02', 'GMB_02', 'GMB_02', 'GMB_02', 'GMB_02', 'GMB_02', 'GMB_02', 'GMB_02', 'GMB_02', 'GMB_02', 'GMB_02', 'GMB_02', 'GMB_02', 'GMB_02', 'GMB_02', 'GMB_02', 'GMB_02', 'GMB_02', 'GMB_02', 'GMB_02', 'GMB_02', 'GMB_02', 'GMB_02', 'GMB_02', 'GMB_02', 'GMB_02', 'GMB_02', 'GMB_02', 'GMB_02', 'GMB_02', 'GMB_02', 'GMB_02', 'GMB_02', 'GMB_02', 'GMB_02', 'GMB_02', 'GMB_02', 'GMB_02', 'GMB_02', 'GMB_02', 'GMB_02', 'GMB_02', 'GMB_02', 'GMB_02', 'GMB_02', 'GMB_02', 'GMB_02', 'GMB_02', 'GMB_02', 'GMB_02', 'GMB_02', 'GMB_02', 'GMB_02', 'GMB_02', 'GMB_02', 'GMB_02', 'GMB_02', 'GMB_02', 'GMB_02', 'GMB_02', 'GMB_02', 'GMB_02', 'GMB_02', 'GMB_02', 'GMB_02', 'GMB_02', 'GMB_02', 'GMB_02', 'GMB_02', 'GMB_02', 'GMB_02', 'GMB_02', 'GMB_02', 'GMB_02', 'GMB_05', 'GMB_05', 'GMB_05', 'GMB_05', 'GMB_05', 'GMB_05', 'GMB_05', 'GMB_05', 'GMB_05', 'GMB_05', 'GMB_05', 'GMB_05', 'GMB_05', 'GMB_05', 'GMB_05', 'GMB_05', 'GMB_05', 'GMB_05', 'GMB_05', 'GMB_05', 'GMB_05', 'GMB_05', 'GMB_05', 'GMB_05', 'GMB_05', 'GMB_05', 'GMB_05', 'GMB_05', 'GMB_05', 'GMB_05', 'GMB_05', 'GMB_05', 'GMB_05', 'GMB_05', 'GMB_05', 'GMB_05', 'GMB_05', 'GMB_05', 'GMB_05', 'GMB_05', 'GMB_05', 'GMB_05', 'GMB_05', 'GMB_05', 'GMB_05', 'GMB_05', 'GMB_05', 'GMB_05', 'GMB_05', 'GMB_05', 'GMB_05', 'GMB_05', 'GMB_05', 'GMB_05', 'GMB_05', 'GMB_05', 'GMB_05', 'GMB_05', 'GMB_05', 'GMB_05', 'GMB_05', 'GMB_05', 'GMB_05', 'GMB_05', 'GMB_05', 'GMB_05', 'GMB_05', 'GMB_05', 'GMB_05', 'GMB_05', 'GMB_05', 'GMB_05', 'GMB_05', 'GMB_05', 'GMB_05', 'GMB_05', 'GMB_05', 'GMB_05', 'GMB_05', 'GMB_05', 'GMB_05', 'GMB_05', 'GMB_05', 'GMB_05', 'GMB_05', 'GMB_05', 'GMB_05', 'GMB_05', 'GMB_05', 'GMB_05', 'GMB_05', 'GMB_05', 'GMB_05', 'GMB_05', 'GMB_05', 'GMB_05', 'GMB_05', 'GMB_05', 'GMB_05', 'GMB_05', 'GMB_05', 'GMB_05', 'GMB_05', 'GMB_05', 'GMB_05', 'GMB_05', 'GMB_05', 'GMB_05', 'GMB_05', 'GMB_05', 'GMB_05', 'GMB_05', 'GMB_05', 'GMB_05', 'GMB_05', 'GMB_05', 'GMB_05', 'GMB_05', 'GMB_05', 'GMB_05', 'GMB_05', 'GMB_04', 'GMB_04', 'GMB_04', 'GMB_04', 'GMB_04', 'GMB_04', 'GMB_04', 'GMB_04', 'GMB_04', 'GMB_04', 'GMB_04', 'GMB_04', 'GMB_04', 'GMB_04', 'GMB_04', 'GMB_04', 'GMB_04', 'GMB_04', 'GMB_04', 'GMB_04', 'GMB_04', 'GMB_04', 'GMB_04', 'GMB_04', 'GMB_04', 'GMB_04', 'GMB_04', 'GMB_04', 'GMB_04', 'GMB_04', 'GMB_04', 'GMB_04', 'GMB_04', 'GMB_04', 'GMB_04', 'GMB_04', 'GMB_04', 'GMB_04', 'GMB_04', 'GMB_04', 'GMB_04', 'GMB_04', 'GMB_04', 'GMB_04', 'GMB_04', 'GMB_04', 'GMB_04', 'GMB_04', 'GMB_04', 'GMB_04', 'GMB_04', 'GMB_04', 'GMB_04', 'GMB_04', 'GMB_04', 'GMB_04', 'GMB_04', 'GMB_04', 'GMB_04', 'GMB_04', 'GMB_04', 'GMB_04', 'GMB_04', 'GMB_04', 'GMB_04', 'GMB_04', 'GMB_04', 'GMB_04', 'GMB_04', 'GMB_04', 'GMB_04', 'GMB_04', 'GMB_04', 'GMB_04', 'GMB_04', 'GMB_04', 'GMB_04', 'GMB_04', 'GMB_04', 'GMB_04', 'GMB_04', 'GMB_04', 'GMB_04', 'GMB_04', 'GMB_04', 'GMB_04', 'GMB_04', 'GMB_04', 'GMB_04', 'GMB_04', 'GMB_04', 'GMB_04', 'GMB_04', 'GMB_04', 'GMB_04', 'GMB_04', 'GMB_04', 'GMB_04', 'GMB_04', 'GMB_04', 'GMB_04', 'GMB_04', 'GMB_04', 'GMB_04', 'GMB_04', 'GMB_04', 'GMB_04', 'GMB_04', 'GMB_04', 'GMB_04', 'GMB_04', 'GMB_04', 'GMB_04', 'GMB_04', 'GMB_04', 'GMB_04', 'GMB_04', 'GMB_04', 'GMB_04', 'GMB_04', 'GMB_04', 'GMB_04', 'GMB_01', 'GMB_01', 'GMB_01', 'GMB_01', 'GMB_01', 'GMB_01', 'GMB_01', 'GMB_01', 'GMB_01', 'GMB_01', 'GMB_01', 'GMB_01', 'GMB_01', 'GMB_01', 'GMB_01', 'GMB_01', 'GMB_01', 'GMB_01', 'GMB_01', 'GMB_01', 'GMB_01', 'GMB_01', 'GMB_01', 'GMB_01', 'GMB_01', 'GMB_01', 'GMB_01', 'GMB_01', 'GMB_01', 'GMB_01', 'GMB_01', 'GMB_01', 'GMB_01', 'GMB_01', 'GMB_01', 'GMB_01', 'GMB_01', 'GMB_01', 'GMB_01', 'GMB_01', 'GMB_01', 'GMB_01', 'GMB_01', 'GMB_01', 'GMB_01', 'GMB_01', 'GMB_01', 'GMB_01', 'GMB_01', 'GMB_01', 'GMB_01', 'GMB_01', 'GMB_01', 'GMB_01', 'GMB_01', 'GMB_01', 'GMB_01', 'GMB_01', 'GMB_01', 'GMB_01', 'GMB_01', 'GMB_01', 'GMB_01', 'GMB_01', 'GMB_01', 'GMB_01', 'GMB_01', 'GMB_01', 'GMB_01', 'GMB_01', 'GMB_01', 'GMB_01', 'GMB_01', 'GMB_01', 'GMB_01', 'GMB_01', 'GMB_01', 'GMB_01', 'GMB_01', 'GMB_01', 'GMB_01', 'GMB_01', 'GMB_01', 'GMB_01', 'GMB_01', 'GMB_01', 'GMB_01', 'GMB_01', 'GMB_01', 'GMB_01', 'GMB_01', 'GMB_01', 'GMB_01', 'GMB_01', 'GMB_01', 'GMB_01', 'GMB_01', 'GMB_01', 'GMB_01', 'GMB_01', 'GMB_01', 'GMB_01', 'GMB_01', 'GMB_01', 'GMB_01', 'GMB_01', 'GMB_01', 'GMB_01', 'GMB_01', 'GMB_01', 'GMB_01', 'GMB_01', 'GMB_01', 'GMB_01', 'GMB_01', 'GMB_01']\n"
          ],
          "name": "stdout"
        }
      ]
    },
    {
      "cell_type": "code",
      "metadata": {
        "id": "WvIj0UaOrnss"
      },
      "source": [
        "lb = LabelBinarizer()\n",
        "labels = lb.fit_transform(labels)"
      ],
      "execution_count": 60,
      "outputs": []
    },
    {
      "cell_type": "code",
      "metadata": {
        "colab": {
          "base_uri": "https://localhost:8080/"
        },
        "id": "262QrDX6rqmJ",
        "outputId": "6c27ac1c-dc41-4436-d6aa-8a8225d840fe"
      },
      "source": [
        "print(labels)"
      ],
      "execution_count": 61,
      "outputs": [
        {
          "output_type": "stream",
          "text": [
            "[[0 0 1 0 0]\n",
            " [0 0 1 0 0]\n",
            " [0 0 1 0 0]\n",
            " ...\n",
            " [1 0 0 0 0]\n",
            " [1 0 0 0 0]\n",
            " [1 0 0 0 0]]\n"
          ],
          "name": "stdout"
        }
      ]
    },
    {
      "cell_type": "code",
      "metadata": {
        "colab": {
          "base_uri": "https://localhost:8080/"
        },
        "id": "WoqbZFbtrrlb",
        "outputId": "c29ae084-eda5-4901-ea77-0917a052d996"
      },
      "source": [
        "(trainX, testX, trainY, testY) = train_test_split(np.array(data),\tnp.array(labels), test_size=0.25, shuffle=True)\n",
        "print(trainX.shape)\n",
        "print(testX.shape)"
      ],
      "execution_count": 62,
      "outputs": [
        {
          "output_type": "stream",
          "text": [
            "(438, 240, 240, 3)\n",
            "(146, 240, 240, 3)\n"
          ],
          "name": "stdout"
        }
      ]
    },
    {
      "cell_type": "code",
      "metadata": {
        "colab": {
          "base_uri": "https://localhost:8080/"
        },
        "id": "GuOy6tXrr3FO",
        "outputId": "54801748-1d96-4e20-83e3-7d65bec3037a"
      },
      "source": [
        "from keras.layers import Convolution2D, MaxPooling2D\n",
        "from keras.models import Sequential\n",
        "from keras.layers.core import Flatten, Dense\n",
        "\n",
        "model = Sequential()\n",
        "model.add(Convolution2D(16, (3,3), activation='relu', input_shape=(240,240,3)))\n",
        "model.add(MaxPooling2D(2,2))\n",
        "model.add(Convolution2D(32, (3,3), activation='relu'))\n",
        "model.add(MaxPooling2D(2,2))\n",
        "#fully connected layer\n",
        "model.add(Flatten())\n",
        "model.add(Dense(100, activation='relu'))\n",
        "model.add(Dense(5, activation='softmax'))\n",
        "\n",
        "model.summary()"
      ],
      "execution_count": 63,
      "outputs": [
        {
          "output_type": "stream",
          "text": [
            "Model: \"sequential_4\"\n",
            "_________________________________________________________________\n",
            "Layer (type)                 Output Shape              Param #   \n",
            "=================================================================\n",
            "conv2d_7 (Conv2D)            (None, 238, 238, 16)      448       \n",
            "_________________________________________________________________\n",
            "max_pooling2d_6 (MaxPooling2 (None, 119, 119, 16)      0         \n",
            "_________________________________________________________________\n",
            "conv2d_8 (Conv2D)            (None, 117, 117, 32)      4640      \n",
            "_________________________________________________________________\n",
            "max_pooling2d_7 (MaxPooling2 (None, 58, 58, 32)        0         \n",
            "_________________________________________________________________\n",
            "flatten_3 (Flatten)          (None, 107648)            0         \n",
            "_________________________________________________________________\n",
            "dense_6 (Dense)              (None, 100)               10764900  \n",
            "_________________________________________________________________\n",
            "dense_7 (Dense)              (None, 5)                 505       \n",
            "=================================================================\n",
            "Total params: 10,770,493\n",
            "Trainable params: 10,770,493\n",
            "Non-trainable params: 0\n",
            "_________________________________________________________________\n"
          ],
          "name": "stdout"
        }
      ]
    },
    {
      "cell_type": "code",
      "metadata": {
        "colab": {
          "base_uri": "https://localhost:8080/"
        },
        "id": "a5pFBC_Ar7va",
        "outputId": "46481434-6e23-438d-91da-89c7270d7032"
      },
      "source": [
        "print(\"[INFO] training network...\")\n",
        "opt = Adam(lr=1e-3, decay=1e-3 / 50)\n",
        "model.compile(loss=\"categorical_crossentropy\", optimizer=opt, metrics=[\"accuracy\"])"
      ],
      "execution_count": 64,
      "outputs": [
        {
          "output_type": "stream",
          "text": [
            "[INFO] training network...\n"
          ],
          "name": "stdout"
        }
      ]
    },
    {
      "cell_type": "code",
      "metadata": {
        "colab": {
          "base_uri": "https://localhost:8080/"
        },
        "id": "_f8Yc9-Kr9jO",
        "outputId": "6aa423ed-d088-424f-c110-33dcaffc028d"
      },
      "source": [
        "H = model.fit(trainX, trainY, validation_data=(testX, testY), epochs=25, batch_size=32)"
      ],
      "execution_count": 65,
      "outputs": [
        {
          "output_type": "stream",
          "text": [
            "Epoch 1/25\n",
            "14/14 [==============================] - 17s 1s/step - loss: 6.4638 - accuracy: 0.2260 - val_loss: 1.5828 - val_accuracy: 0.4178\n",
            "Epoch 2/25\n",
            "14/14 [==============================] - 17s 1s/step - loss: 1.4999 - accuracy: 0.3607 - val_loss: 1.3691 - val_accuracy: 0.5205\n",
            "Epoch 3/25\n",
            "14/14 [==============================] - 17s 1s/step - loss: 1.1120 - accuracy: 0.6119 - val_loss: 1.0062 - val_accuracy: 0.6301\n",
            "Epoch 4/25\n",
            "14/14 [==============================] - 17s 1s/step - loss: 0.6906 - accuracy: 0.7511 - val_loss: 0.9032 - val_accuracy: 0.6507\n",
            "Epoch 5/25\n",
            "14/14 [==============================] - 17s 1s/step - loss: 0.4164 - accuracy: 0.8721 - val_loss: 0.7812 - val_accuracy: 0.7123\n",
            "Epoch 6/25\n",
            "14/14 [==============================] - 17s 1s/step - loss: 0.2282 - accuracy: 0.9429 - val_loss: 0.6621 - val_accuracy: 0.7808\n",
            "Epoch 7/25\n",
            "14/14 [==============================] - 17s 1s/step - loss: 0.1318 - accuracy: 0.9635 - val_loss: 0.8093 - val_accuracy: 0.7671\n",
            "Epoch 8/25\n",
            "14/14 [==============================] - 17s 1s/step - loss: 0.0939 - accuracy: 0.9795 - val_loss: 0.6814 - val_accuracy: 0.8082\n",
            "Epoch 9/25\n",
            "14/14 [==============================] - 17s 1s/step - loss: 0.0397 - accuracy: 0.9954 - val_loss: 0.6698 - val_accuracy: 0.8151\n",
            "Epoch 10/25\n",
            "14/14 [==============================] - 17s 1s/step - loss: 0.0265 - accuracy: 1.0000 - val_loss: 0.7513 - val_accuracy: 0.7740\n",
            "Epoch 11/25\n",
            "14/14 [==============================] - 17s 1s/step - loss: 0.0218 - accuracy: 0.9977 - val_loss: 0.6744 - val_accuracy: 0.8219\n",
            "Epoch 12/25\n",
            "14/14 [==============================] - 17s 1s/step - loss: 0.0117 - accuracy: 1.0000 - val_loss: 0.6145 - val_accuracy: 0.8288\n",
            "Epoch 13/25\n",
            "14/14 [==============================] - 17s 1s/step - loss: 0.0084 - accuracy: 1.0000 - val_loss: 0.6866 - val_accuracy: 0.8082\n",
            "Epoch 14/25\n",
            "14/14 [==============================] - 17s 1s/step - loss: 0.0068 - accuracy: 1.0000 - val_loss: 0.6754 - val_accuracy: 0.8288\n",
            "Epoch 15/25\n",
            "14/14 [==============================] - 17s 1s/step - loss: 0.0043 - accuracy: 1.0000 - val_loss: 0.7102 - val_accuracy: 0.8356\n",
            "Epoch 16/25\n",
            "14/14 [==============================] - 17s 1s/step - loss: 0.0032 - accuracy: 1.0000 - val_loss: 0.6793 - val_accuracy: 0.8288\n",
            "Epoch 17/25\n",
            "14/14 [==============================] - 17s 1s/step - loss: 0.0034 - accuracy: 1.0000 - val_loss: 0.6486 - val_accuracy: 0.8356\n",
            "Epoch 18/25\n",
            "14/14 [==============================] - 17s 1s/step - loss: 0.0025 - accuracy: 1.0000 - val_loss: 0.6560 - val_accuracy: 0.8425\n",
            "Epoch 19/25\n",
            "14/14 [==============================] - 17s 1s/step - loss: 0.0021 - accuracy: 1.0000 - val_loss: 0.7014 - val_accuracy: 0.8219\n",
            "Epoch 20/25\n",
            "14/14 [==============================] - 18s 1s/step - loss: 0.0017 - accuracy: 1.0000 - val_loss: 0.6749 - val_accuracy: 0.8356\n",
            "Epoch 21/25\n",
            "14/14 [==============================] - 17s 1s/step - loss: 0.0014 - accuracy: 1.0000 - val_loss: 0.7161 - val_accuracy: 0.8356\n",
            "Epoch 22/25\n",
            "14/14 [==============================] - 17s 1s/step - loss: 0.0012 - accuracy: 1.0000 - val_loss: 0.7408 - val_accuracy: 0.8562\n",
            "Epoch 23/25\n",
            "14/14 [==============================] - 17s 1s/step - loss: 0.0011 - accuracy: 1.0000 - val_loss: 0.7414 - val_accuracy: 0.8356\n",
            "Epoch 24/25\n",
            "14/14 [==============================] - 17s 1s/step - loss: 8.9389e-04 - accuracy: 1.0000 - val_loss: 0.7486 - val_accuracy: 0.8288\n",
            "Epoch 25/25\n",
            "14/14 [==============================] - 17s 1s/step - loss: 9.0888e-04 - accuracy: 1.0000 - val_loss: 0.6967 - val_accuracy: 0.8562\n"
          ],
          "name": "stdout"
        }
      ]
    },
    {
      "cell_type": "code",
      "metadata": {
        "colab": {
          "base_uri": "https://localhost:8080/",
          "height": 591
        },
        "id": "tOA6SZE4ty3q",
        "outputId": "6103a365-e5ed-4196-eb4c-04bb8a5e787a"
      },
      "source": [
        "import matplotlib.pyplot as plt\n",
        "\n",
        "print(H.history.keys())\n",
        "# summarize history for accuracy\n",
        "plt.plot(H.history['accuracy'])\n",
        "plt.plot(H.history['val_accuracy'])\n",
        "plt.title('model accuracy')\n",
        "plt.ylabel('accuracy')\n",
        "plt.xlabel('epoch')\n",
        "plt.legend(['train', 'test'], loc='upper left')\n",
        "plt.show()\n",
        "# summarize history for loss\n",
        "plt.plot(H.history['loss'])\n",
        "plt.plot(H.history['val_loss'])\n",
        "plt.title('model loss')\n",
        "plt.ylabel('loss')\n",
        "plt.xlabel('epoch')\n",
        "plt.legend(['train', 'test'], loc='upper left')\n",
        "plt.show()"
      ],
      "execution_count": 66,
      "outputs": [
        {
          "output_type": "stream",
          "text": [
            "dict_keys(['loss', 'accuracy', 'val_loss', 'val_accuracy'])\n"
          ],
          "name": "stdout"
        },
        {
          "output_type": "display_data",
          "data": {
            "image/png": "[encoded data removed]",
            "text/plain": [
              "<Figure size 432x288 with 1 Axes>"
            ]
          },
          "metadata": {
            "tags": [],
            "needs_background": "light"
          }
        },
        {
          "output_type": "display_data",
          "data": {
            "image/png": "[encoded data removed]",
            "text/plain": [
              "<Figure size 432x288 with 1 Axes>"
            ]
          },
          "metadata": {
            "tags": [],
            "needs_background": "light"
          }
        }
      ]
    },
    {
      "cell_type": "code",
      "metadata": {
        "colab": {
          "base_uri": "https://localhost:8080/"
        },
        "id": "v-YXoWMIt5CO",
        "outputId": "dd8f1c63-586a-4630-9511-71ee85d940d4"
      },
      "source": [
        "print(\"[INFO] evaluating network...\")\n",
        "predictions = model.predict(testX, batch_size=32)\n",
        "print(classification_report(testY.argmax(axis=1),\n",
        "\tpredictions.argmax(axis=1), target_names=lb.classes_))"
      ],
      "execution_count": 67,
      "outputs": [
        {
          "output_type": "stream",
          "text": [
            "[INFO] evaluating network...\n",
            "              precision    recall  f1-score   support\n",
            "\n",
            "      GMB_01       0.69      0.86      0.77        21\n",
            "      GMB_02       0.94      0.89      0.92        37\n",
            "      GMB_03       0.97      0.85      0.90        33\n",
            "      GMB_04       0.87      0.79      0.83        33\n",
            "      GMB_05       0.77      0.91      0.83        22\n",
            "\n",
            "    accuracy                           0.86       146\n",
            "   macro avg       0.85      0.86      0.85       146\n",
            "weighted avg       0.87      0.86      0.86       146\n",
            "\n"
          ],
          "name": "stdout"
        }
      ]
    },
    {
      "cell_type": "code",
      "metadata": {
        "colab": {
          "base_uri": "https://localhost:8080/"
        },
        "id": "hasg9Wiry4Ap",
        "outputId": "805334fe-da9a-4d71-f812-0a34e6776125"
      },
      "source": [
        "model.save('nnmodel_daun')"
      ],
      "execution_count": 68,
      "outputs": [
        {
          "output_type": "stream",
          "text": [
            "WARNING:tensorflow:From /usr/local/lib/python3.6/dist-packages/tensorflow/python/training/tracking/tracking.py:111: Model.state_updates (from tensorflow.python.keras.engine.training) is deprecated and will be removed in a future version.\n",
            "Instructions for updating:\n",
            "This property should not be used in TensorFlow 2.0, as updates are applied automatically.\n",
            "WARNING:tensorflow:From /usr/local/lib/python3.6/dist-packages/tensorflow/python/training/tracking/tracking.py:111: Layer.updates (from tensorflow.python.keras.engine.base_layer) is deprecated and will be removed in a future version.\n",
            "Instructions for updating:\n",
            "This property should not be used in TensorFlow 2.0, as updates are applied automatically.\n",
            "INFO:tensorflow:Assets written to: nnmodel_daun/assets\n"
          ],
          "name": "stdout"
        }
      ]
    }
  ]
}